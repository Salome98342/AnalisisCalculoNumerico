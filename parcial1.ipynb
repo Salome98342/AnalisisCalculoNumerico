{
  "nbformat": 4,
  "nbformat_minor": 0,
  "metadata": {
    "colab": {
      "provenance": [],
      "gpuType": "T4",
      "authorship_tag": "ABX9TyPlOlhO8+xwdDWbfjgoXGCk",
      "include_colab_link": true
    },
    "kernelspec": {
      "name": "python3",
      "display_name": "Python 3"
    },
    "language_info": {
      "name": "python"
    },
    "accelerator": "GPU"
  },
  "cells": [
    {
      "cell_type": "markdown",
      "metadata": {
        "id": "view-in-github",
        "colab_type": "text"
      },
      "source": [
        "<a href=\"https://colab.research.google.com/github/Salome98342/AnalisisCalculoNumerico/blob/main/parcial1.ipynb\" target=\"_parent\"><img src=\"https://colab.research.google.com/assets/colab-badge.svg\" alt=\"Open In Colab\"/></a>"
      ]
    },
    {
      "cell_type": "code",
      "execution_count": null,
      "metadata": {
        "id": "lVZt39asK1Uz"
      },
      "outputs": [],
      "source": []
    },
    {
      "cell_type": "markdown",
      "source": [
        "Ejercicio 1: *Modo Aprensizaje*"
      ],
      "metadata": {
        "id": "pBTaITdfj6ah"
      }
    },
    {
      "cell_type": "code",
      "source": [
        "import tensorflow as tf # Es para construir y entrenar redes neuronales\n",
        "from tensorflow import keras # Esta dentro del tf, ayuda a crear el modelo de la red neuroanal\n",
        "import matplotlib.pyplot as plt # Para visualizar las imagenes\n",
        "\n",
        "\n",
        "# Cargar el dataset MNIST\n",
        "# X es imagenes y Y etiquetas\n",
        "\n",
        "(x_train, y_train), (x_test, y_test) = keras.datasets.mnist.load_data()\n",
        "\n",
        "\n",
        "# Normalizar los datos (escala de 1 a 0)\n",
        "x_train, x_test = x_train / 255.0, x_test / 255.0\n",
        "\n",
        "\n",
        "# Definir la red neuronal\n",
        "model = keras.Sequential([\n",
        "    keras.layers.Flatten(input_shape=(28, 28)),  # Capa de entrada\n",
        "    keras.layers.Dense(128, activation='relu'),  # Capa oculta\n",
        "    keras.layers.Dense(10, activation='softmax') # Capa de salida (10 clases)\n",
        "])\n",
        "\n",
        "\n",
        "# Compilar el modelo (modo de aprendizaje)\n",
        "\n",
        "model.compile(optimizer='adam',\n",
        "              loss='sparse_categorical_crossentropy',\n",
        "              metrics=['accuracy'])\n",
        "\n",
        "# Entrenar la red neuronal\n",
        "\n",
        "print(\"Modo de Aprendizaje: Entrenando la red neuronal...\")\n",
        "model.fit(x_train, y_train, epochs=5, validation_data=(x_test, y_test))\n",
        "\n"
      ],
      "metadata": {
        "colab": {
          "base_uri": "https://localhost:8080/"
        },
        "id": "I8orJrgYN2oo",
        "outputId": "ae2d6052-5f6c-4ccd-d1ea-9999225e5f6c"
      },
      "execution_count": null,
      "outputs": [
        {
          "output_type": "stream",
          "name": "stderr",
          "text": [
            "/usr/local/lib/python3.11/dist-packages/keras/src/layers/reshaping/flatten.py:37: UserWarning: Do not pass an `input_shape`/`input_dim` argument to a layer. When using Sequential models, prefer using an `Input(shape)` object as the first layer in the model instead.\n",
            "  super().__init__(**kwargs)\n"
          ]
        },
        {
          "output_type": "stream",
          "name": "stdout",
          "text": [
            "Modo de Aprendizaje: Entrenando la red neuronal...\n",
            "Epoch 1/5\n",
            "\u001b[1m1875/1875\u001b[0m \u001b[32m━━━━━━━━━━━━━━━━━━━━\u001b[0m\u001b[37m\u001b[0m \u001b[1m7s\u001b[0m 3ms/step - accuracy: 0.8711 - loss: 0.4514 - val_accuracy: 0.9537 - val_loss: 0.1478\n",
            "Epoch 2/5\n",
            "\u001b[1m1875/1875\u001b[0m \u001b[32m━━━━━━━━━━━━━━━━━━━━\u001b[0m\u001b[37m\u001b[0m \u001b[1m5s\u001b[0m 3ms/step - accuracy: 0.9648 - loss: 0.1177 - val_accuracy: 0.9678 - val_loss: 0.1027\n",
            "Epoch 3/5\n",
            "\u001b[1m1875/1875\u001b[0m \u001b[32m━━━━━━━━━━━━━━━━━━━━\u001b[0m\u001b[37m\u001b[0m \u001b[1m6s\u001b[0m 3ms/step - accuracy: 0.9768 - loss: 0.0785 - val_accuracy: 0.9724 - val_loss: 0.0846\n",
            "Epoch 4/5\n",
            "\u001b[1m1875/1875\u001b[0m \u001b[32m━━━━━━━━━━━━━━━━━━━━\u001b[0m\u001b[37m\u001b[0m \u001b[1m5s\u001b[0m 3ms/step - accuracy: 0.9838 - loss: 0.0547 - val_accuracy: 0.9759 - val_loss: 0.0758\n",
            "Epoch 5/5\n",
            "\u001b[1m1875/1875\u001b[0m \u001b[32m━━━━━━━━━━━━━━━━━━━━\u001b[0m\u001b[37m\u001b[0m \u001b[1m6s\u001b[0m 3ms/step - accuracy: 0.9875 - loss: 0.0418 - val_accuracy: 0.9759 - val_loss: 0.0764\n"
          ]
        },
        {
          "output_type": "execute_result",
          "data": {
            "text/plain": [
              "<keras.src.callbacks.history.History at 0x78ab2584cd50>"
            ]
          },
          "metadata": {},
          "execution_count": 25
        }
      ]
    },
    {
      "cell_type": "markdown",
      "source": [
        "Cambio"
      ],
      "metadata": {
        "id": "bPNDtZ7aklgj"
      }
    },
    {
      "cell_type": "code",
      "source": [
        "import tensorflow as tf # Es para construir y entrenar redes neuronales\n",
        "from tensorflow import keras # Esta dentro del tf, ayuda a crear el modelo de la red neuroanal\n",
        "import matplotlib.pyplot as plt # Para visualizar las imagenes\n",
        "\n",
        "# Cargar el dataset MNIST\n",
        "# X es imagenes y Y etiquetas\n",
        "\n",
        "(x_train, y_train), (x_test, y_test) = keras.datasets.mnist.load_data()\n",
        "\n",
        "\n",
        "# Normalizar los datos (escala de 1 a 0)\n",
        "x_train, x_test = x_train / 255.0, x_test / 255.0\n",
        "\n",
        "\n",
        "# Definir la red neuronal\n",
        "model = keras.Sequential([\n",
        "    keras.layers.Flatten(input_shape=(28, 28)),  # Capa de entrada\n",
        "    keras.layers.Dense(128, activation='relu'),  # Capa oculta\n",
        "    keras.layers.Dense(10, activation='softmax') # Capa de salida (10 clases)\n",
        "])\n",
        "\n",
        "\n",
        "# Compilar el modelo (modo de aprendizaje)\n",
        "\n",
        "model.compile(optimizer='adam',\n",
        "              loss='sparse_categorical_crossentropy',\n",
        "              metrics=['accuracy'])\n",
        "\n",
        "# Entrenar la red neuronal\n",
        "\n",
        "print(\"Modo de Aprendizaje: Entrenando la red neuronal...\")\n",
        "# Entrenar el modelo\n",
        "model.fit(x_train, y_train, epochs=3)\n",
        "\n",
        "# Evaluar el modelo\n",
        "test_loss, test_acc = model.evaluate(x_test, y_test)\n",
        "print(f'Precisión en el conjunto de prueba: {test_acc:.4f}')\n",
        "\n"
      ],
      "metadata": {
        "colab": {
          "base_uri": "https://localhost:8080/"
        },
        "id": "dZime6WEWtWw",
        "outputId": "f3452743-f907-451a-ad40-6e129c912cc2"
      },
      "execution_count": null,
      "outputs": [
        {
          "output_type": "stream",
          "name": "stdout",
          "text": [
            "Modo de Aprendizaje: Entrenando la red neuronal...\n",
            "Epoch 1/3\n",
            "\u001b[1m1875/1875\u001b[0m \u001b[32m━━━━━━━━━━━━━━━━━━━━\u001b[0m\u001b[37m\u001b[0m \u001b[1m5s\u001b[0m 2ms/step - accuracy: 0.8817 - loss: 0.4297\n",
            "Epoch 2/3\n",
            "\u001b[1m1875/1875\u001b[0m \u001b[32m━━━━━━━━━━━━━━━━━━━━\u001b[0m\u001b[37m\u001b[0m \u001b[1m5s\u001b[0m 2ms/step - accuracy: 0.9632 - loss: 0.1238\n",
            "Epoch 3/3\n",
            "\u001b[1m1875/1875\u001b[0m \u001b[32m━━━━━━━━━━━━━━━━━━━━\u001b[0m\u001b[37m\u001b[0m \u001b[1m4s\u001b[0m 2ms/step - accuracy: 0.9760 - loss: 0.0817\n",
            "\u001b[1m313/313\u001b[0m \u001b[32m━━━━━━━━━━━━━━━━━━━━\u001b[0m\u001b[37m\u001b[0m \u001b[1m1s\u001b[0m 3ms/step - accuracy: 0.9695 - loss: 0.0982\n",
            "Precisión en el conjunto de prueba: 0.9739\n"
          ]
        }
      ]
    },
    {
      "cell_type": "markdown",
      "source": [
        "Con imagenes"
      ],
      "metadata": {
        "id": "JcUfgwuxkpu8"
      }
    },
    {
      "cell_type": "code",
      "source": [
        "import tensorflow as tf\n",
        "from tensorflow.keras import layers, models\n",
        "import matplotlib.pyplot as plt\n",
        "# Es para construir y entrenar redes neuronales\n",
        "# Esta dentro del tf, ayuda a crear el modelo de la red neuroanal\n",
        "# Para visualizar las imagenes\n",
        "\n",
        "\n",
        "\n",
        "# Cargar el dataset MNIST\n",
        "# X es imagenes y Y etiquetas\n",
        "\n",
        "(x_train, y_train), (x_test, y_test) = tf.keras.datasets.mnist.load_data()\n",
        "\n",
        "\n",
        "# Normalizar los datos (escala de 1 a 0)\n",
        "x_train = x_train / 255.0\n",
        "x_test = x_test / 255.0\n",
        "\n",
        "\n",
        "# Mostrar algunas imágenes de ejemplo\n",
        "plt.figure(figsize=(10, 5))  # Tamaño de la figura\n",
        "for i in range(10):  # Mostrar 10 imágenes\n",
        "    plt.subplot(2, 5, i+1)  # Organizar en 2 filas y 5 columnas\n",
        "    plt.imshow(x_train[i], cmap='gray')  # Mostrar la imagen en escala de grises\n",
        "    plt.title(f'Dígito: {y_train[i]}')  # Título con la etiqueta real\n",
        "    plt.axis('off')  # Quitar ejes\n",
        "plt.show()  # Mostrar todas las imágenes\n",
        "\n",
        "\n",
        "# Definir la red neuronal\n",
        "model = models.Sequential([\n",
        "    layers.Flatten(input_shape=(28, 28)),  # Capa de entrada\n",
        "    layers.Dense(128, activation='relu'),  # Capa oculta\n",
        "    layers.Dense(10, activation='softmax') # Capa de salida (10 clases)\n",
        "])\n",
        "\n",
        "\n",
        "# Compilar el modelo (modo de aprendizaje)\n",
        "\n",
        "model.compile(optimizer='adam',\n",
        "              loss='sparse_categorical_crossentropy',\n",
        "              metrics=['accuracy'])\n",
        "\n",
        "# Entrenar la red neuronal\n",
        "\n",
        "print(\"Modo de Aprendizaje: Entrenando la red neuronal...\")\n",
        "model.fit(x_train, y_train, epochs=5, validation_data=(x_test, y_test))\n",
        "\n"
      ],
      "metadata": {
        "colab": {
          "base_uri": "https://localhost:8080/",
          "height": 629
        },
        "id": "LsVLq456fFgL",
        "outputId": "6f9ec5d9-0d68-4945-a24c-b6d6bba97125"
      },
      "execution_count": null,
      "outputs": [
        {
          "output_type": "display_data",
          "data": {
            "text/plain": [
              "<Figure size 1000x500 with 10 Axes>"
            ],
            "image/png": "[encoded data removed]"
          },
          "metadata": {}
        },
        {
          "output_type": "stream",
          "name": "stdout",
          "text": [
            "Modo de Aprendizaje: Entrenando la red neuronal...\n",
            "Epoch 1/5\n",
            "\u001b[1m1875/1875\u001b[0m \u001b[32m━━━━━━━━━━━━━━━━━━━━\u001b[0m\u001b[37m\u001b[0m \u001b[1m7s\u001b[0m 3ms/step - accuracy: 0.8734 - loss: 0.4394 - val_accuracy: 0.9601 - val_loss: 0.1361\n",
            "Epoch 2/5\n",
            "\u001b[1m1875/1875\u001b[0m \u001b[32m━━━━━━━━━━━━━━━━━━━━\u001b[0m\u001b[37m\u001b[0m \u001b[1m9s\u001b[0m 3ms/step - accuracy: 0.9620 - loss: 0.1284 - val_accuracy: 0.9666 - val_loss: 0.1054\n",
            "Epoch 3/5\n",
            "\u001b[1m1875/1875\u001b[0m \u001b[32m━━━━━━━━━━━━━━━━━━━━\u001b[0m\u001b[37m\u001b[0m \u001b[1m5s\u001b[0m 3ms/step - accuracy: 0.9755 - loss: 0.0835 - val_accuracy: 0.9730 - val_loss: 0.0914\n",
            "Epoch 4/5\n",
            "\u001b[1m1875/1875\u001b[0m \u001b[32m━━━━━━━━━━━━━━━━━━━━\u001b[0m\u001b[37m\u001b[0m \u001b[1m6s\u001b[0m 3ms/step - accuracy: 0.9821 - loss: 0.0591 - val_accuracy: 0.9752 - val_loss: 0.0762\n",
            "Epoch 5/5\n",
            "\u001b[1m1875/1875\u001b[0m \u001b[32m━━━━━━━━━━━━━━━━━━━━\u001b[0m\u001b[37m\u001b[0m \u001b[1m6s\u001b[0m 3ms/step - accuracy: 0.9857 - loss: 0.0453 - val_accuracy: 0.9772 - val_loss: 0.0784\n"
          ]
        },
        {
          "output_type": "execute_result",
          "data": {
            "text/plain": [
              "<keras.src.callbacks.history.History at 0x7e68cd2d1e10>"
            ]
          },
          "metadata": {},
          "execution_count": 6
        }
      ]
    },
    {
      "cell_type": "markdown",
      "source": [
        "Ejercicio 2: Modo de Recuerdo\n"
      ],
      "metadata": {
        "id": "LKG5tdPMkClM"
      }
    },
    {
      "cell_type": "code",
      "source": [
        "import tensorflow as tf\n",
        "from tensorflow.keras import layers, models\n",
        "import matplotlib.pyplot as plt\n",
        "# Es para construir y entrenar redes neuronales\n",
        "# Esta dentro del tf, ayuda a crear el modelo de la red neuroanal\n",
        "# Para visualizar las imagenes\n",
        "\n",
        "\n",
        "\n",
        "# Cargar el dataset MNIST\n",
        "# X es imagenes y Y etiquetas\n",
        "\n",
        "(x_train, y_train), (x_test, y_test) = tf.keras.datasets.mnist.load_data()\n",
        "\n",
        "\n",
        "# Normalizar los datos (escala de 1 a 0)\n",
        "x_train = x_train / 255.0\n",
        "x_test = x_test / 255.0\n",
        "\n",
        "\n",
        "# Mostrar algunas imágenes de ejemplo\n",
        "plt.figure(figsize=(10, 5))  # Tamaño de la figura\n",
        "for i in range(10):  # Mostrar 10 imágenes\n",
        "    plt.subplot(2, 5, i+1)  # Organizar en 2 filas y 5 columnas\n",
        "    plt.imshow(x_train[i], cmap='gray')  # Mostrar la imagen en escala de grises\n",
        "    plt.title(f'Dígito: {y_train[i]}')  # Título con la etiqueta real\n",
        "    plt.axis('off')  # Quitar ejes\n",
        "plt.show()  # Mostrar todas las imágenes\n",
        "\n",
        "\n",
        "# Crear un modelo con memoria (LSTM)\n",
        "model = models.Sequential([\n",
        "    layers.Input(shape=(28, 28)),  # 28 pasos de tiempo (filas), 28 características (píxeles por fila)\n",
        "    layers.LSTM(128, return_sequences=False),  # Capa LSTM con 128 unidades, sin devolver secuencias\n",
        "    layers.Dense(10, activation='softmax')  # Capa de salida con 10 clases\n",
        "])\n",
        "\n",
        "# Compilar el modelo (modo de aprendizaje)\n",
        "\n",
        "model.compile(optimizer='adam',\n",
        "              loss='sparse_categorical_crossentropy',\n",
        "              metrics=['accuracy'])\n",
        "\n",
        "# Entrenar la red neuronal\n",
        "\n",
        "print(\"Modo de Aprendizaje: Entrenando la red neuronal...\")\n",
        "model.fit(x_train, y_train, epochs=5, validation_data=(x_test, y_test))"
      ],
      "metadata": {
        "colab": {
          "base_uri": "https://localhost:8080/",
          "height": 629
        },
        "id": "L5rWtkqnkHbK",
        "outputId": "3fffaaa9-6f52-4226-d5bd-f55c3820ee00"
      },
      "execution_count": null,
      "outputs": [
        {
          "output_type": "display_data",
          "data": {
            "text/plain": [
              "<Figure size 1000x500 with 10 Axes>"
            ],
            "image/png": "[encoded data removed]"
          },
          "metadata": {}
        },
        {
          "output_type": "stream",
          "name": "stdout",
          "text": [
            "Modo de Aprendizaje: Entrenando la red neuronal...\n",
            "Epoch 1/5\n",
            "\u001b[1m1875/1875\u001b[0m \u001b[32m━━━━━━━━━━━━━━━━━━━━\u001b[0m\u001b[37m\u001b[0m \u001b[1m11s\u001b[0m 5ms/step - accuracy: 0.7698 - loss: 0.6805 - val_accuracy: 0.9637 - val_loss: 0.1184\n",
            "Epoch 2/5\n",
            "\u001b[1m1875/1875\u001b[0m \u001b[32m━━━━━━━━━━━━━━━━━━━━\u001b[0m\u001b[37m\u001b[0m \u001b[1m9s\u001b[0m 5ms/step - accuracy: 0.9651 - loss: 0.1177 - val_accuracy: 0.9686 - val_loss: 0.1004\n",
            "Epoch 3/5\n",
            "\u001b[1m1875/1875\u001b[0m \u001b[32m━━━━━━━━━━━━━━━━━━━━\u001b[0m\u001b[37m\u001b[0m \u001b[1m10s\u001b[0m 5ms/step - accuracy: 0.9760 - loss: 0.0786 - val_accuracy: 0.9702 - val_loss: 0.0877\n",
            "Epoch 4/5\n",
            "\u001b[1m1875/1875\u001b[0m \u001b[32m━━━━━━━━━━━━━━━━━━━━\u001b[0m\u001b[37m\u001b[0m \u001b[1m10s\u001b[0m 5ms/step - accuracy: 0.9819 - loss: 0.0594 - val_accuracy: 0.9788 - val_loss: 0.0692\n",
            "Epoch 5/5\n",
            "\u001b[1m1875/1875\u001b[0m \u001b[32m━━━━━━━━━━━━━━━━━━━━\u001b[0m\u001b[37m\u001b[0m \u001b[1m10s\u001b[0m 5ms/step - accuracy: 0.9850 - loss: 0.0470 - val_accuracy: 0.9834 - val_loss: 0.0554\n"
          ]
        },
        {
          "output_type": "execute_result",
          "data": {
            "text/plain": [
              "<keras.src.callbacks.history.History at 0x7e68cbfce650>"
            ]
          },
          "metadata": {},
          "execution_count": 8
        }
      ]
    },
    {
      "cell_type": "markdown",
      "source": [
        "Ejercicio 3 - Elegir el dígito específico que quieres predecir (0-9):"
      ],
      "metadata": {
        "id": "Lc5R5uAcY0CA"
      }
    },
    {
      "cell_type": "code",
      "source": [
        "# Importar las bibliotecas necesarias\n",
        "import tensorflow as tf\n",
        "from tensorflow.keras import layers, models\n",
        "import matplotlib.pyplot as plt\n",
        "import numpy as np\n",
        "\n",
        "# Cargar y preparar los datos de MNIST\n",
        "(x_train, y_train), (x_test, y_test) = tf.keras.datasets.mnist.load_data()\n",
        "\n",
        "# Normalizar los datos (valores entre 0 y 1)\n",
        "x_train = x_train / 255.0\n",
        "x_test = x_test / 255.0\n",
        "\n",
        "# Crear un modelo con memoria simple (SimpleRNN)\n",
        "model = models.Sequential([\n",
        "    layers.Input(shape=(28, 28)),  # 28 pasos de tiempo (filas), 28 características (píxeles por fila)\n",
        "    layers.SimpleRNN(64),  # Capa SimpleRNN con 64 unidades\n",
        "    layers.Dense(10, activation='softmax')  # Capa de salida con 10 clases\n",
        "])\n",
        "# Compilar el modelo\n",
        "model.compile(optimizer='adam',\n",
        "              loss='sparse_categorical_crossentropy',\n",
        "              metrics=['accuracy'])\n",
        "\n",
        "# Entrenar el modelo\n",
        "print(\"Entrenando el modelo...\")\n",
        "model.fit(x_train, y_train, epochs=3, verbose=1)\n",
        "\n",
        "# Evaluar el modelo en el conjunto de prueba\n",
        "test_loss, test_acc = model.evaluate(x_test, y_test, verbose=0)\n",
        "print(f\"\\nPrecisión en el conjunto de prueba: {test_acc:.4f}\")\n",
        "\n",
        "# Elegir el dígito específico que quieres predecir (0-9)\n",
        "digito_deseado = 1  # Cambia este número (0-9) para predecir el dígito que quieras\n",
        "\n",
        "# Buscar una imagen en x_test que sea el dígito deseado\n",
        "indice = None\n",
        "for i in range(len(x_test)):\n",
        "    if y_test[i] == digito_deseado:\n",
        "        indice = i\n",
        "        break\n",
        "if indice is not None:\n",
        "    # Seleccionar la imagen y su etiqueta real\n",
        "    imagen_prueba = x_test[indice]\n",
        "    etiqueta_real = y_test[indice]\n",
        "\n",
        "    # Mostrar la imagen seleccionada\n",
        "    plt.figure(figsize=(5, 5))\n",
        "    plt.imshow(imagen_prueba, cmap='gray')\n",
        "    plt.title(f'Imagen seleccionada - Etiqueta real: {etiqueta_real}')\n",
        "    plt.axis('off')\n",
        "    plt.show()\n",
        "\n",
        "    # Realizar la predicción\n",
        "    imagen_prueba_reshape = np.expand_dims(imagen_prueba, axis=0)\n",
        "    prediccion = model.predict(imagen_prueba_reshape, verbose=0)\n",
        "    digito_predicho = np.argmax(prediccion)\n",
        "\n",
        "    # Mostrar la predicción y probabilidades\n",
        "    print(f\"\\nPredicción del modelo: {digito_predicho}\")\n",
        "    print(\"Probabilidades para cada clase:\")\n",
        "    for i, prob in enumerate(prediccion[0]):\n",
        "        print(f\"Clase {i}: {prob:.4f}\")\n",
        "    # Comparar el resultado con la etiqueta real\n",
        "    print(f\"\\nEtiqueta real: {etiqueta_real}\")\n",
        "    if digito_predicho == etiqueta_real:\n",
        "        print(\"¡El modelo acertó en su predicción!\")\n",
        "    else:\n",
        "        print(\"El modelo no acertó en su predicción.\")\n",
        "\n",
        "    # Visualización final con predicción y real\n",
        "    plt.figure(figsize=(5, 5))\n",
        "    plt.imshow(imagen_prueba, cmap='gray')\n",
        "    plt.text(2, 2, f'Pred: {digito_predicho}', color='red', fontsize=12, weight='bold',\n",
        "             bbox=dict(facecolor='white', alpha=0.8))\n",
        "    plt.text(2, 25, f'Real: {etiqueta_real}', color='blue', fontsize=12, weight='bold',\n",
        "             bbox=dict(facecolor='white', alpha=0.8))\n",
        "    plt.axis('off')\n",
        "    plt.show()\n",
        "\n",
        "else:\n",
        "    print(f\"No se encontró ninguna imagen con el dígito {digito_deseado} en el conjunto de prueba.\")\n"
      ],
      "metadata": {
        "colab": {
          "base_uri": "https://localhost:8080/",
          "height": 1000
        },
        "id": "TZD7nWkSYyw8",
        "outputId": "b3e6a916-8c95-4baf-b675-cb0fb37a7feb"
      },
      "execution_count": null,
      "outputs": [
        {
          "output_type": "stream",
          "name": "stdout",
          "text": [
            "Downloading data from https://storage.googleapis.com/tensorflow/tf-keras-datasets/mnist.npz\n",
            "\u001b[1m11490434/11490434\u001b[0m \u001b[32m━━━━━━━━━━━━━━━━━━━━\u001b[0m\u001b[37m\u001b[0m \u001b[1m0s\u001b[0m 0us/step\n",
            "Entrenando el modelo...\n",
            "Epoch 1/3\n",
            "\u001b[1m1875/1875\u001b[0m \u001b[32m━━━━━━━━━━━━━━━━━━━━\u001b[0m\u001b[37m\u001b[0m \u001b[1m11s\u001b[0m 4ms/step - accuracy: 0.7097 - loss: 0.8738\n",
            "Epoch 2/3\n",
            "\u001b[1m1875/1875\u001b[0m \u001b[32m━━━━━━━━━━━━━━━━━━━━\u001b[0m\u001b[37m\u001b[0m \u001b[1m8s\u001b[0m 4ms/step - accuracy: 0.9173 - loss: 0.2839\n",
            "Epoch 3/3\n",
            "\u001b[1m1875/1875\u001b[0m \u001b[32m━━━━━━━━━━━━━━━━━━━━\u001b[0m\u001b[37m\u001b[0m \u001b[1m12s\u001b[0m 5ms/step - accuracy: 0.9345 - loss: 0.2290\n",
            "\n",
            "Precisión en el conjunto de prueba: 0.9514\n"
          ]
        },
        {
          "output_type": "display_data",
          "data": {
            "text/plain": [
              "<Figure size 500x500 with 1 Axes>"
            ],
            "image/png": "[encoded data removed]"
          },
          "metadata": {}
        },
        {
          "output_type": "stream",
          "name": "stdout",
          "text": [
            "\n",
            "Predicción del modelo: 1\n",
            "Probabilidades para cada clase:\n",
            "Clase 0: 0.0000\n",
            "Clase 1: 0.9987\n",
            "Clase 2: 0.0002\n",
            "Clase 3: 0.0001\n",
            "Clase 4: 0.0000\n",
            "Clase 5: 0.0000\n",
            "Clase 6: 0.0002\n",
            "Clase 7: 0.0001\n",
            "Clase 8: 0.0006\n",
            "Clase 9: 0.0000\n",
            "\n",
            "Etiqueta real: 1\n",
            "¡El modelo acertó en su predicción!\n"
          ]
        },
        {
          "output_type": "display_data",
          "data": {
            "text/plain": [
              "<Figure size 500x500 with 1 Axes>"
            ],
            "image/png": "[encoded data removed]"
          },
          "metadata": {}
        }
      ]
    }
  ]
}